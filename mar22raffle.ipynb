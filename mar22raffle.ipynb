{
 "cells": [
  {
   "cell_type": "code",
   "execution_count": 1,
   "metadata": {},
   "outputs": [],
   "source": [
    "from moralis import evm_api\n",
    "from os import getenv\n",
    "from random import choices"
   ]
  },
  {
   "cell_type": "code",
   "execution_count": 2,
   "metadata": {},
   "outputs": [],
   "source": [
    "api_key = getenv('MORALIS_API_KEY')"
   ]
  },
  {
   "cell_type": "code",
   "execution_count": 3,
   "metadata": {},
   "outputs": [
    {
     "name": "stdout",
     "output_type": "stream",
     "text": [
      "Number of owners: 99\n",
      "Owners: {'0xc12b0cf07a61917b8dbd24ca5ed8c579dd92f2b4', '0x97340931f3c6f77061c9ff86cf5dd467d74e7fd6', '0xd3af11e3a608e72012def4d29fac6b3fd093d1f3', '0xb536ffe4bba83a1e776be71364b0d62ac8a9f2de', '0xc16d033c14c4bf91a329a8f519f8003fc349e2cb', '0x1b60dabf1e6f27755c71fc19d926cc465f9b43c8', '0xeda5125b2fb2d8f59ee04f421a4ba8bc9a4303eb', '0xbba8f7f6481aa9463c30ecd2a5b586c4396394c6', '0x6e2d0e4c0ab888e3a637511780f531b8b3a75091', '0x46b97d1cdd9b67322b0eae602653944a723c1f3d', '0xee19668b0cc82dadf1f992f4a5e88ffef3b11a81', '0x5bd89919422df46da711356465400f4a9f725846', '0xc2b9b77c9c9f997bde6b7eab4408fb12a68c22bd', '0xd8b853b144b0110d790bc46402de706e51d59481', '0xc130956c8752d9e70e2f733e27b33fc34de0dfa1', '0xd00a394ed8d7fea4e6235923dd5adf38171e55eb', '0xc912f2f8404da1ad56f899bd2ee9d4a438ec5fd6', '0xd74244ed33560d12a34f60529d5dbd06dc1a6348', '0x79f67e07693a923420919217aaa4fbef3cc84687', '0x03ab0fb0be318b1d6420e7ae87a7e1b7cd6d590f', '0xdb1f6d6350df7e2b32b54a82b3e1b75bd616d774', '0xd6ee4ad322bc95edccbea2a330fee78eac6cc52f', '0x20a46ac216a7a31945d175840f18eb1a68ace7b9', '0xa13d0df9075c4d61cee4f3051d30215e32e61e76', '0x662c37089244239cd9d695554e85a65518579b69', '0xf8a5ee25eaeec8670ae75969b10d8bc6e93118d6', '0x3f0695cbac544d53a9c22d1a522f4eaf7770aeb2', '0xbe74308b06e7361ddce50f5c27732cfa4fef4fea', '0x0be171f9999ed995badbf7f52c0954f596b8d799', '0xcea1ff53d1d1fe7b68de007cbd193e4d4ae58ac3', '0xf07844f155cb97fea174b60f29392565a7496e38', '0x1b0acfc216cfafd2346239de356fc2c11625b23d', '0x9dc838ef658d23d07e9343d130ba1686586646e3', '0xaf1039e76d2c00d47f326b2ca6b271e91402fbb3', '0xb052e8baa57c85c35722d4ad7c3aadd40f520370', '0xcc9fe1531e561165c832167f48b7d90da10b1747', '0xdad6c364209c821b459c3bd337bcb8a542f561ba', '0xfeb0f4338b5fd57aacfe1efac15094ac03005ea8', '0xebec084a98804f090557b2e8c4588b0e66a653f0', '0x081594e6ba62f33051db169942ed201af530624b', '0x6a1c0dbdf0a465e2e584f71a5a3d209ef7af23d5', '0x62763a0d45eb16efe2b9f2f30743be0e6ec3a207', '0x5a740c2e968496c407651fed13c0643bf896ca19', '0x7e3cc4e02a782932ba5bdfbf117448bdd6343f15', '0xe7c2f1fc8f3c0f52de852479fa646fec659ccc7b', '0xe02eecad949b965e549725cf06adfb36fa58abc5', '0x373a79fc2435fb84f4ac9096a781ad7af94ed974', '0xa53ad6879f65e1a6df1d077383918a65ec0874f4', '0xeef879c2e9978066b0bc7773587d3fb63dd544c1', '0x797ee0fa82dc45bb1ab3ee93937249130edafdc6', '0x7fdb16599ad071c6568689e44a54adc1ce0a1a5a', '0xc1007bf2fe70362e4174b349573ab1e4479538a7', '0x241d97610144de1f1e8545bad0f6d8b7ace02a3a', '0xaec72fe17c2e50960239051b0dfd35f8e95101fa', '0x68552300e2a5114340abb7dddf3f4af377148f41', '0x5d30ea6d8eb2b0c2fa58b0df9d023cceca847893', '0x6f4e0fcb5838f37275b059a1079fd6764d2690db', '0xea53047abadd4800a783d93f0b592ff40b6c2bf5', '0xb24e8c37232d3689e4f0038cb7a303e50e9da5a6', '0xd77dd8754c5f3c63ba18cd17bf2f6dc60ee14e6f', '0xe613cc30d6c18094be7ffc4225c610858e41ef61', '0x628bd5b3a1b6fda6592476678e94287b9aafa6e5', '0xe0a633db259b8f2ed6ee8c3a432d42bdca611241', '0x41d368a53af7afba2eb47ac9bf1611632369ecca', '0x5f0225dbc1d209e8c6aaee1cf35a85c94a95cea6', '0x430d0381693a0ff4ba971ce94a95d3f69325d94b', '0x8ed8575cc6f186d0457c90fa8011beae60775a77', '0xbb70c70d3e738481744118eb6668bced9762d5f1', '0x1df8acdee8ec275abe1c25bece73b8b310a44c62', '0x7aa06172c07fe7310b656663f77c6c0974fd05c8', '0x1afb347ba90dba4b34583228c482dcedb1381911', '0x7b47640ed97cc08aa188ae091efab2cf3ef48469', '0xd4d960ca6a69bd0119ebb62e273ff33db7d00115', '0xb33ebc121c096118408bbe92ec74fc7598fda1af', '0xa75917a5141513dcd761ccf55624ef201df823f5', '0xc1dba0f924b8044d12d7fe9adfdb07863e944303', '0x224d95cf1ded57e172a8e8a2e869501e255de435', '0xb3f6981915a404c8c7917d9ab1f00c5176cee3dc', '0x1ce22e9ae110cbd8325fface3d44f3e68d8174c5', '0x463ea58f0726d24a2dc1f9b51ea4f8b1f7cf16a7', '0xd89d4949d3d12a32df41fc1134365b39026cdd51', '0x1634ca655f647b72ca370efd3ea2abdc762c7441', '0x6831b7878ea0750e8f0759f7e130965e3f4960c6', '0xa65e89deacff744b1b01dcc4c7d8e72d7bda6a16', '0x26562b07f6153ef2f1b1f2c82c8a9032add71693', '0x61ef082b86b75ecdf582a520121620b22f0729c7', '0xe894dcf3f79016ed58688bdcce914ce76c43c5aa', '0x86c74e9b205b134fad008f0ac8ff618afbc91412', '0x136e6f25117af5e5ff5d353dc41a0e91f013d461', '0x00085a46ad7f0d34f18b6bee9dd3dac52b1df351', '0x4e435d2d6fce29ab31f9841b98d09872869c6bc0', '0xe968906007618a2a51d4635e628786ce70beb6a1', '0x1461a5bc46128e5b793f646a3d889d3f09de98f1', '0x41e7945421dea4e2a0b6df97b86bb76c52b51f95', '0x83f07ddd887c053757efc791e2ccd5a8b30c82f9', '0x2ee1e6483ab36c07a7f7593cee9c8c7df7c729ac', '0x90a177e22881f496806f9862b42870d372fa078a', '0x780f60bbd746003fbbe755829d2f54f773453792', '0x7440e1407f95f33206fb72464a63cd54b2ee6282'}\n"
     ]
    }
   ],
   "source": [
    "params = {\n",
    "    \"address\": \"0x679B2650bBA1F38583D8E248a6C017D54225e6Ba\",\n",
    "    \"token_id\": \"2\",\n",
    "    \"chain\": \"polygon\",\n",
    "    \"format\": \"decimal\",\n",
    "}\n",
    "\n",
    "result = evm_api.nft.get_nft_token_id_owners(\n",
    "    api_key=api_key,\n",
    "    params=params,\n",
    ")\n",
    "\n",
    "owners = set(res['owner_of'] for res in result['result'])\n",
    "print(f'Number of owners: {len(owners)}')\n",
    "print(f'Owners: {owners}')"
   ]
  },
  {
   "cell_type": "code",
   "execution_count": 4,
   "metadata": {},
   "outputs": [],
   "source": [
    "# Pick 7 winners\n",
    "winners = choices(list(owners), k=7)"
   ]
  },
  {
   "cell_type": "code",
   "execution_count": 5,
   "metadata": {},
   "outputs": [
    {
     "name": "stdout",
     "output_type": "stream",
     "text": [
      "Yuliveser box: 0x7e3cc4e02a782932ba5bdfbf117448bdd6343f15\n",
      "Yuliveser box: 0x0be171f9999ed995badbf7f52c0954f596b8d799\n",
      "Yuliveser box: 0x41d368a53af7afba2eb47ac9bf1611632369ecca\n",
      "852web3 tee: 0x00085a46ad7f0d34f18b6bee9dd3dac52b1df351\n",
      "852web3 tee: 0xc912f2f8404da1ad56f899bd2ee9d4a438ec5fd6\n",
      "852Web3 hoodie: 0xebec084a98804f090557b2e8c4588b0e66a653f0\n",
      "Raredram ardbeg whisky: 0x224d95cf1ded57e172a8e8a2e869501e255de435\n"
     ]
    }
   ],
   "source": [
    "# Yuliveser box x3\n",
    "print(f'Yuliveser box: {winners[0]}')\n",
    "print(f'Yuliveser box: {winners[1]}')\n",
    "print(f'Yuliveser box: {winners[2]}')\n",
    "\n",
    "# 852web3 tee x2\n",
    "print(f'852web3 tee: {winners[3]}')\n",
    "print(f'852web3 tee: {winners[4]}')\n",
    "\n",
    "# 852Web3 hoodie x1\n",
    "print(f'852Web3 hoodie: {winners[5]}')\n",
    "\n",
    "# Raredram ardbeg whisky x1\n",
    "print(f'Raredram ardbeg whisky: {winners[6]}')"
   ]
  },
  {
   "cell_type": "code",
   "execution_count": null,
   "metadata": {},
   "outputs": [],
   "source": []
  }
 ],
 "metadata": {
  "kernelspec": {
   "display_name": "Python 3",
   "language": "python",
   "name": "python3"
  },
  "language_info": {
   "codemirror_mode": {
    "name": "ipython",
    "version": 3
   },
   "file_extension": ".py",
   "mimetype": "text/x-python",
   "name": "python",
   "nbconvert_exporter": "python",
   "pygments_lexer": "ipython3",
   "version": "3.9.14"
  },
  "orig_nbformat": 4
 },
 "nbformat": 4,
 "nbformat_minor": 2
}
